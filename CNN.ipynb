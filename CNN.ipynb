{
 "cells": [
  {
   "cell_type": "code",
   "execution_count": 34,
   "id": "e3a677ed-71f9-4c9c-990b-d6da163b9b2d",
   "metadata": {},
   "outputs": [],
   "source": [
    "#imports\n",
    "import torch\n",
    "import torch.nn as nn\n",
    "import torch.nn.functional as F\n",
    "import torchvision\n",
    "import torchvision.transforms as transforms\n",
    "import matplotlib.pyplot as plt\n",
    "import numpy as np"
   ]
  },
  {
   "cell_type": "code",
   "execution_count": 35,
   "id": "eb070f24-12f3-44a2-93a7-373f56e4e2e3",
   "metadata": {},
   "outputs": [],
   "source": [
    "# Device configuration\n",
    "device = torch.device('cuda' if torch.cuda.is_available() else 'cpu')"
   ]
  },
  {
   "cell_type": "code",
   "execution_count": 36,
   "id": "d4fe2225-523d-4a6a-a4ab-67b7e5403580",
   "metadata": {},
   "outputs": [],
   "source": [
    "# Hyper-parameters \n",
    "num_epochs = 30\n",
    "batch_size = 4\n",
    "learning_rate = 0.001"
   ]
  },
  {
   "cell_type": "markdown",
   "id": "603aee8d-a4cb-4d66-82c1-c9a30fbd5835",
   "metadata": {},
   "source": [
    "The given code snippet performs transformations on images to prepare them for use in a PyTorch deep learning model. Let's break it down step by step:\n",
    "\n",
    "### Original Image Characteristics\n",
    "PILImage: The images are in the PIL (Python Imaging Library) format.\n",
    "Range [0, 1]: The pixel values of the images are normalized to the range [0, 1].\n",
    "\n",
    "### Transformations\n",
    "The transform pipeline defines a sequence of operations to apply to each image before it's used in a model.\n",
    "\n",
    "1. transforms.ToTensor()\n",
    "This transformation:\n",
    "\n",
    "- Converts the PILImage to a PyTorch tensor.\n",
    "- Converts the image from [0, 1] range and shape (H, W, C) (Height, Width, Channels) to PyTorch's standard format (C, H, W).\n",
    "- The pixel values remain in the range [0, 1].\n",
    "\n",
    "2. transforms.Normalize((0.5, 0.5, 0.5), (0.5, 0.5, 0.5))\n",
    "This transformation normalizes the image tensor. Normalization adjusts the pixel values to a new range for better training performance and convergence.\n",
    "The new range of pixel values becomes [-1, 1].\n",
    "\n",
    "### Final Pipeline\n",
    "When an image passes through this transformation:\n",
    "\n",
    "- It is converted to a tensor.\n",
    "- The pixel values are normalized from [0, 1] to [-1, 1].\n"
   ]
  },
  {
   "cell_type": "code",
   "execution_count": 37,
   "id": "76b150ed-f0a2-4aee-985b-027b04fa591b",
   "metadata": {},
   "outputs": [],
   "source": [
    "# dataset has PILImage images of range [0, 1]. \n",
    "# We transform them to Tensors of normalized range [-1, 1]\n",
    "transform = transforms.Compose(\n",
    "    [transforms.ToTensor(),\n",
    "     transforms.Normalize((0.5, 0.5, 0.5), (0.5, 0.5, 0.5))])"
   ]
  },
  {
   "cell_type": "code",
   "execution_count": 38,
   "id": "12dc5295-65a2-40c7-bb72-d6ce1360d37d",
   "metadata": {},
   "outputs": [
    {
     "name": "stdout",
     "output_type": "stream",
     "text": [
      "Files already downloaded and verified\n",
      "Files already downloaded and verified\n"
     ]
    }
   ],
   "source": [
    "# CIFAR10: 60000 32x32 color images in 10 classes, with 6000 images per class\n",
    "train_dataset = torchvision.datasets.CIFAR10(root='./data', train=True,\n",
    "                                        download=True, transform=transform)\n",
    "\n",
    "test_dataset = torchvision.datasets.CIFAR10(root='./data', train=False,\n",
    "                                       download=True, transform=transform)"
   ]
  },
  {
   "cell_type": "code",
   "execution_count": 39,
   "id": "789cfabe-d445-418e-bfe6-9195c4b4b124",
   "metadata": {},
   "outputs": [],
   "source": [
    "train_loader = torch.utils.data.DataLoader(train_dataset, batch_size=batch_size,\n",
    "                                          shuffle=True)\n",
    "\n",
    "test_loader = torch.utils.data.DataLoader(test_dataset, batch_size=batch_size,\n",
    "                                         shuffle=False)"
   ]
  },
  {
   "cell_type": "code",
   "execution_count": 40,
   "id": "aaf70a11-e231-48fe-8b6e-75ed6fd2909a",
   "metadata": {},
   "outputs": [],
   "source": [
    "classes = ('plane', 'car', 'bird', 'cat',\n",
    "           'deer', 'dog', 'frog', 'horse', 'ship', 'truck')"
   ]
  },
  {
   "cell_type": "code",
   "execution_count": 41,
   "id": "30061e0e-c9fc-401b-ac46-eedcb9113f89",
   "metadata": {},
   "outputs": [],
   "source": [
    "def imshow(img):\n",
    "    # unnormalize\n",
    "    img = img / 2 + 0.5  \n",
    "    # converts tensor into numpy array\n",
    "    npimg = img.numpy()\n",
    "    # rearranges the dimensions of the image from (C, H, W) to (H, W, C)\n",
    "    plt.imshow(np.transpose(npimg, (1, 2, 0))) \n",
    "    plt.show()"
   ]
  },
  {
   "cell_type": "code",
   "execution_count": 42,
   "id": "5014132b-3547-40f8-bf11-edf00c558e42",
   "metadata": {},
   "outputs": [],
   "source": [
    "# get some random training images\n",
    "dataiter = iter(train_loader)\n",
    "images, labels = next(dataiter)"
   ]
  },
  {
   "cell_type": "code",
   "execution_count": 43,
   "id": "c012f3e6-86a0-4cf3-858b-b0699ecaaaeb",
   "metadata": {},
   "outputs": [
    {
     "data": {
      "image/png": "[encoded data removed]",
      "text/plain": [
       "<Figure size 640x480 with 1 Axes>"
      ]
     },
     "metadata": {},
     "output_type": "display_data"
    }
   ],
   "source": [
    "# show images\n",
    "# getting 4 images as our batch size is 4\n",
    "imshow(torchvision.utils.make_grid(images))"
   ]
  },
  {
   "cell_type": "code",
   "execution_count": 44,
   "id": "26ef1f03-865f-4c8d-9ecf-25659319b4da",
   "metadata": {},
   "outputs": [],
   "source": [
    "class ConvNet(nn.Module):\n",
    "    def __init__(self):\n",
    "        super(ConvNet, self).__init__()\n",
    "        # 3 input channels, 6 feature maps produced by this layer, Kernal size = 5×5\n",
    "        self.conv1 = nn.Conv2d(3, 6, 5)\n",
    "        # Kernel Size: 2×2 (window size for pooling), Stride: 2 (step size for the pooling operation).\n",
    "        self.pool = nn.MaxPool2d(2, 2)\n",
    "        # 6 outputs from conv1 layer, 16 feature maps by this layer, Kernal size = 5×5\n",
    "        self.conv2 = nn.Conv2d(6, 16, 5)\n",
    "        # Kernel Size: 2×2 (window size for pooling), Stride: 2 (step size for the pooling operation).\n",
    "        self.pool = nn.MaxPool2d(2, 2)\n",
    "        # Fully connected (dense) layer\n",
    "        # Input Features:\n",
    "            #16×5×5=400 (flattened feature map from the second convolutional layer and pooling).\n",
    "        # Output Features: 120 (number of neurons in this layer).\n",
    "        self.fc1 = nn.Linear(16*5*5, 120)\n",
    "        self.fc2 = nn.Linear(120, 84)\n",
    "        self.fc3 = nn.Linear(84, 10)\n",
    "\n",
    "    def forward(self, x):\n",
    "        pass"
   ]
  },
  {
   "cell_type": "code",
   "execution_count": 45,
   "id": "233c4ffb-aaf4-4115-b8d2-37514fdf072a",
   "metadata": {},
   "outputs": [],
   "source": [
    "class ConvNet(nn.Module):\n",
    "    def __init__(self):\n",
    "        super(ConvNet, self).__init__()\n",
    "        # 3 input channels, 6 feature maps produced by this layer, Kernal size = 5×5\n",
    "        self.conv1 = nn.Conv2d(3, 6, 5)\n",
    "        # Kernel Size: 2×2 (window size for pooling), Stride: 2 (step size for the pooling operation).\n",
    "        self.pool = nn.MaxPool2d(2, 2)\n",
    "        # 6 outputs from conv1 layer, 16 feature maps by this layer, Kernal size = 5×5\n",
    "        self.conv2 = nn.Conv2d(6, 16, 5)\n",
    "        # Kernel Size: 2×2 (window size for pooling), Stride: 2 (step size for the pooling operation).\n",
    "        self.pool = nn.MaxPool2d(2, 2)\n",
    "        # Fully connected (dense) layer\n",
    "        # Input Features:\n",
    "            #16×5×5=400 (flattened feature map from the second convolutional layer and pooling).\n",
    "        # Output Features: 120 (number of neurons in this layer).\n",
    "        self.fc1 = nn.Linear(16*5*5, 120)\n",
    "        self.fc2 = nn.Linear(120, 84)\n",
    "        self.fc3 = nn.Linear(84, 10)\n",
    "\n",
    "    def forward(self, x):\n",
    "        # -> n, 3, 32, 32\n",
    "        x = self.pool(F.relu(self.conv1(x)))  # -> n, 6, 14, 14\n",
    "        x = self.pool(F.relu(self.conv2(x)))  # -> n, 16, 5, 5\n",
    "        x = x.view(-1, 16 * 5 * 5)            # -> n, 400\n",
    "        x = F.relu(self.fc1(x))               # -> n, 120\n",
    "        x = F.relu(self.fc2(x))               # -> n, 84\n",
    "        x = self.fc3(x)                       # -> n, 10\n",
    "        return x"
   ]
  },
  {
   "attachments": {
    "24f119fd-e30f-4bec-a727-aba80af40539.png": {
     "image/png": "[encoded data removed]"
    }
   },
   "cell_type": "markdown",
   "id": "23d44753-823f-4721-a00a-99a82959b29f",
   "metadata": {},
   "source": [
    "Explanation of flattened feature map from the second convolutional layer and pooling\n",
    "![image.png](attachment:24f119fd-e30f-4bec-a727-aba80af40539.png)"
   ]
  },
  {
   "cell_type": "code",
   "execution_count": 46,
   "id": "065ed6cc-faf1-4706-aa7e-ff7389cbfc79",
   "metadata": {},
   "outputs": [],
   "source": [
    "model = ConvNet().to(device)"
   ]
  },
  {
   "cell_type": "code",
   "execution_count": 47,
   "id": "aaa0f8ad-b0cd-4c42-a858-884445b4d34e",
   "metadata": {},
   "outputs": [],
   "source": [
    "criterion = nn.CrossEntropyLoss()"
   ]
  },
  {
   "cell_type": "code",
   "execution_count": 48,
   "id": "826d737e-84c9-41db-aab6-a21e9ee91b7e",
   "metadata": {},
   "outputs": [],
   "source": [
    "optimizer = torch.optim.SGD(model.parameters(), lr=learning_rate)"
   ]
  },
  {
   "cell_type": "code",
   "execution_count": null,
   "id": "2ba4e1b7-4115-4b5e-bf64-e4156a7bac4c",
   "metadata": {},
   "outputs": [
    {
     "name": "stdout",
     "output_type": "stream",
     "text": [
      "Epoch [1/30], Step [2000/12500], Loss: 2.3051\n",
      "Epoch [1/30], Step [4000/12500], Loss: 2.2855\n",
      "Epoch [1/30], Step [6000/12500], Loss: 2.2779\n",
      "Epoch [1/30], Step [8000/12500], Loss: 2.2328\n",
      "Epoch [1/30], Step [10000/12500], Loss: 1.7679\n",
      "Epoch [1/30], Step [12000/12500], Loss: 2.1756\n",
      "Epoch [2/30], Step [2000/12500], Loss: 1.7299\n",
      "Epoch [2/30], Step [4000/12500], Loss: 1.9320\n",
      "Epoch [2/30], Step [6000/12500], Loss: 1.4597\n",
      "Epoch [2/30], Step [8000/12500], Loss: 1.7587\n",
      "Epoch [2/30], Step [10000/12500], Loss: 1.8577\n",
      "Epoch [2/30], Step [12000/12500], Loss: 1.5061\n",
      "Epoch [3/30], Step [2000/12500], Loss: 1.7734\n",
      "Epoch [3/30], Step [4000/12500], Loss: 1.3823\n",
      "Epoch [3/30], Step [6000/12500], Loss: 0.7609\n",
      "Epoch [3/30], Step [8000/12500], Loss: 2.9124\n",
      "Epoch [3/30], Step [10000/12500], Loss: 1.0335\n",
      "Epoch [3/30], Step [12000/12500], Loss: 1.3349\n",
      "Epoch [4/30], Step [2000/12500], Loss: 1.6167\n",
      "Epoch [4/30], Step [4000/12500], Loss: 1.4468\n",
      "Epoch [4/30], Step [6000/12500], Loss: 2.4377\n",
      "Epoch [4/30], Step [8000/12500], Loss: 1.4178\n",
      "Epoch [4/30], Step [10000/12500], Loss: 1.0398\n",
      "Epoch [4/30], Step [12000/12500], Loss: 1.5895\n",
      "Epoch [5/30], Step [2000/12500], Loss: 1.8623\n",
      "Epoch [5/30], Step [4000/12500], Loss: 1.4878\n",
      "Epoch [5/30], Step [6000/12500], Loss: 0.8202\n",
      "Epoch [5/30], Step [8000/12500], Loss: 1.7810\n",
      "Epoch [5/30], Step [10000/12500], Loss: 0.9509\n",
      "Epoch [5/30], Step [12000/12500], Loss: 1.2995\n",
      "Epoch [6/30], Step [2000/12500], Loss: 1.4624\n",
      "Epoch [6/30], Step [4000/12500], Loss: 0.7812\n",
      "Epoch [6/30], Step [6000/12500], Loss: 0.5209\n",
      "Epoch [6/30], Step [8000/12500], Loss: 1.3376\n",
      "Epoch [6/30], Step [10000/12500], Loss: 1.1418\n",
      "Epoch [6/30], Step [12000/12500], Loss: 0.9252\n",
      "Epoch [7/30], Step [2000/12500], Loss: 1.4044\n",
      "Epoch [7/30], Step [4000/12500], Loss: 0.9359\n",
      "Epoch [7/30], Step [6000/12500], Loss: 1.4289\n",
      "Epoch [7/30], Step [8000/12500], Loss: 1.1881\n",
      "Epoch [7/30], Step [10000/12500], Loss: 0.8603\n",
      "Epoch [7/30], Step [12000/12500], Loss: 2.0971\n",
      "Epoch [8/30], Step [2000/12500], Loss: 1.0002\n",
      "Epoch [8/30], Step [4000/12500], Loss: 1.3049\n",
      "Epoch [8/30], Step [6000/12500], Loss: 1.9317\n",
      "Epoch [8/30], Step [8000/12500], Loss: 0.7838\n",
      "Epoch [8/30], Step [10000/12500], Loss: 0.6925\n",
      "Epoch [8/30], Step [12000/12500], Loss: 0.8457\n",
      "Epoch [9/30], Step [2000/12500], Loss: 1.6834\n",
      "Epoch [9/30], Step [4000/12500], Loss: 1.4671\n",
      "Epoch [9/30], Step [6000/12500], Loss: 1.1262\n",
      "Epoch [9/30], Step [8000/12500], Loss: 2.2188\n",
      "Epoch [9/30], Step [10000/12500], Loss: 0.9762\n",
      "Epoch [9/30], Step [12000/12500], Loss: 1.8077\n",
      "Epoch [10/30], Step [2000/12500], Loss: 1.2779\n",
      "Epoch [10/30], Step [4000/12500], Loss: 1.3702\n",
      "Epoch [10/30], Step [6000/12500], Loss: 2.0965\n",
      "Epoch [10/30], Step [8000/12500], Loss: 1.4831\n",
      "Epoch [10/30], Step [10000/12500], Loss: 0.9247\n",
      "Epoch [10/30], Step [12000/12500], Loss: 1.1109\n",
      "Epoch [11/30], Step [2000/12500], Loss: 1.0702\n",
      "Epoch [11/30], Step [4000/12500], Loss: 0.8684\n",
      "Epoch [11/30], Step [6000/12500], Loss: 2.3410\n",
      "Epoch [11/30], Step [8000/12500], Loss: 0.9241\n",
      "Epoch [11/30], Step [10000/12500], Loss: 1.5358\n",
      "Epoch [11/30], Step [12000/12500], Loss: 1.2791\n",
      "Epoch [12/30], Step [2000/12500], Loss: 0.9643\n",
      "Epoch [12/30], Step [4000/12500], Loss: 1.9346\n",
      "Epoch [12/30], Step [6000/12500], Loss: 0.1774\n",
      "Epoch [12/30], Step [8000/12500], Loss: 0.3395\n",
      "Epoch [12/30], Step [10000/12500], Loss: 0.5365\n",
      "Epoch [12/30], Step [12000/12500], Loss: 0.9875\n",
      "Epoch [13/30], Step [2000/12500], Loss: 1.0960\n",
      "Epoch [13/30], Step [4000/12500], Loss: 0.8854\n",
      "Epoch [13/30], Step [6000/12500], Loss: 0.9117\n",
      "Epoch [13/30], Step [8000/12500], Loss: 1.2698\n",
      "Epoch [13/30], Step [10000/12500], Loss: 1.5954\n",
      "Epoch [13/30], Step [12000/12500], Loss: 1.0270\n",
      "Epoch [14/30], Step [2000/12500], Loss: 0.8708\n",
      "Epoch [14/30], Step [4000/12500], Loss: 0.8131\n",
      "Epoch [14/30], Step [6000/12500], Loss: 0.5292\n",
      "Epoch [14/30], Step [8000/12500], Loss: 1.6310\n",
      "Epoch [14/30], Step [10000/12500], Loss: 1.3440\n",
      "Epoch [14/30], Step [12000/12500], Loss: 1.2933\n",
      "Epoch [15/30], Step [2000/12500], Loss: 0.7231\n",
      "Epoch [15/30], Step [4000/12500], Loss: 0.8152\n",
      "Epoch [15/30], Step [6000/12500], Loss: 0.3864\n",
      "Epoch [15/30], Step [8000/12500], Loss: 0.7511\n",
      "Epoch [15/30], Step [10000/12500], Loss: 0.4916\n",
      "Epoch [15/30], Step [12000/12500], Loss: 0.7581\n",
      "Epoch [16/30], Step [2000/12500], Loss: 0.7318\n",
      "Epoch [16/30], Step [4000/12500], Loss: 0.9377\n",
      "Epoch [16/30], Step [6000/12500], Loss: 0.8829\n",
      "Epoch [16/30], Step [8000/12500], Loss: 0.5844\n",
      "Epoch [16/30], Step [10000/12500], Loss: 2.2085\n",
      "Epoch [16/30], Step [12000/12500], Loss: 0.5169\n",
      "Epoch [17/30], Step [2000/12500], Loss: 2.2241\n",
      "Epoch [17/30], Step [4000/12500], Loss: 0.8963\n",
      "Epoch [17/30], Step [6000/12500], Loss: 1.2591\n",
      "Epoch [17/30], Step [8000/12500], Loss: 0.9831\n",
      "Epoch [17/30], Step [10000/12500], Loss: 0.6948\n",
      "Epoch [17/30], Step [12000/12500], Loss: 1.7872\n",
      "Epoch [18/30], Step [2000/12500], Loss: 1.2908\n",
      "Epoch [18/30], Step [4000/12500], Loss: 0.2100\n",
      "Epoch [18/30], Step [6000/12500], Loss: 1.2582\n",
      "Epoch [18/30], Step [8000/12500], Loss: 1.0812\n",
      "Epoch [18/30], Step [10000/12500], Loss: 1.6907\n",
      "Epoch [18/30], Step [12000/12500], Loss: 1.2021\n",
      "Epoch [19/30], Step [2000/12500], Loss: 1.6403\n",
      "Epoch [19/30], Step [4000/12500], Loss: 1.0305\n",
      "Epoch [19/30], Step [6000/12500], Loss: 0.5102\n",
      "Epoch [19/30], Step [8000/12500], Loss: 1.4907\n",
      "Epoch [19/30], Step [10000/12500], Loss: 0.3179\n",
      "Epoch [19/30], Step [12000/12500], Loss: 0.9077\n",
      "Epoch [20/30], Step [2000/12500], Loss: 0.9090\n",
      "Epoch [20/30], Step [4000/12500], Loss: 0.4902\n",
      "Epoch [20/30], Step [6000/12500], Loss: 0.3713\n",
      "Epoch [20/30], Step [8000/12500], Loss: 1.8084\n",
      "Epoch [20/30], Step [10000/12500], Loss: 0.1811\n",
      "Epoch [20/30], Step [12000/12500], Loss: 1.0418\n",
      "Epoch [21/30], Step [2000/12500], Loss: 1.2180\n",
      "Epoch [21/30], Step [4000/12500], Loss: 0.2731\n",
      "Epoch [21/30], Step [6000/12500], Loss: 0.9804\n",
      "Epoch [21/30], Step [8000/12500], Loss: 0.7147\n",
      "Epoch [21/30], Step [10000/12500], Loss: 1.1719\n",
      "Epoch [21/30], Step [12000/12500], Loss: 0.7597\n",
      "Epoch [22/30], Step [2000/12500], Loss: 1.1743\n",
      "Epoch [22/30], Step [4000/12500], Loss: 0.8095\n",
      "Epoch [22/30], Step [6000/12500], Loss: 0.9840\n",
      "Epoch [22/30], Step [8000/12500], Loss: 0.0932\n",
      "Epoch [22/30], Step [10000/12500], Loss: 1.0146\n",
      "Epoch [22/30], Step [12000/12500], Loss: 0.5395\n",
      "Epoch [23/30], Step [2000/12500], Loss: 1.2479\n",
      "Epoch [23/30], Step [4000/12500], Loss: 0.4078\n",
      "Epoch [23/30], Step [6000/12500], Loss: 0.9155\n",
      "Epoch [23/30], Step [8000/12500], Loss: 0.4492\n",
      "Epoch [23/30], Step [10000/12500], Loss: 0.1706\n",
      "Epoch [23/30], Step [12000/12500], Loss: 0.2085\n",
      "Epoch [24/30], Step [2000/12500], Loss: 0.2215\n",
      "Epoch [24/30], Step [4000/12500], Loss: 1.2107\n",
      "Epoch [24/30], Step [6000/12500], Loss: 0.7949\n",
      "Epoch [24/30], Step [8000/12500], Loss: 0.5044\n",
      "Epoch [24/30], Step [10000/12500], Loss: 0.2212\n",
      "Epoch [24/30], Step [12000/12500], Loss: 0.7797\n",
      "Epoch [25/30], Step [2000/12500], Loss: 0.5767\n",
      "Epoch [25/30], Step [4000/12500], Loss: 1.1460\n",
      "Epoch [25/30], Step [6000/12500], Loss: 1.5014\n",
      "Epoch [25/30], Step [8000/12500], Loss: 0.7184\n",
      "Epoch [25/30], Step [10000/12500], Loss: 0.8416\n",
      "Epoch [25/30], Step [12000/12500], Loss: 0.2534\n",
      "Epoch [26/30], Step [2000/12500], Loss: 1.8724\n",
      "Epoch [26/30], Step [4000/12500], Loss: 0.8755\n",
      "Epoch [26/30], Step [6000/12500], Loss: 0.1957\n",
      "Epoch [26/30], Step [8000/12500], Loss: 0.5129\n",
      "Epoch [26/30], Step [10000/12500], Loss: 0.2364\n",
      "Epoch [26/30], Step [12000/12500], Loss: 0.8928\n",
      "Epoch [27/30], Step [2000/12500], Loss: 0.6897\n",
      "Epoch [27/30], Step [4000/12500], Loss: 0.6350\n",
      "Epoch [27/30], Step [6000/12500], Loss: 0.9573\n",
      "Epoch [27/30], Step [8000/12500], Loss: 0.7069\n",
      "Epoch [27/30], Step [10000/12500], Loss: 0.7964\n",
      "Epoch [27/30], Step [12000/12500], Loss: 0.4898\n",
      "Epoch [28/30], Step [2000/12500], Loss: 1.3075\n",
      "Epoch [28/30], Step [4000/12500], Loss: 0.6582\n",
      "Epoch [28/30], Step [6000/12500], Loss: 0.7959\n",
      "Epoch [28/30], Step [8000/12500], Loss: 0.3448\n",
      "Epoch [28/30], Step [10000/12500], Loss: 0.3101\n",
      "Epoch [28/30], Step [12000/12500], Loss: 0.4236\n",
      "Epoch [29/30], Step [2000/12500], Loss: 0.3346\n",
      "Epoch [29/30], Step [4000/12500], Loss: 0.4604\n",
      "Epoch [29/30], Step [6000/12500], Loss: 0.6663\n",
      "Epoch [29/30], Step [8000/12500], Loss: 0.1632\n"
     ]
    }
   ],
   "source": [
    "n_total_steps = len(train_loader)\n",
    "for epoch in range(num_epochs):\n",
    "    for i, (images, labels) in enumerate(train_loader):\n",
    "        # origin shape: [4, 3, 32, 32] = 4, 3, 1024\n",
    "        # input_layer: 3 input channels, 6 output channels, 5 kernel size\n",
    "        images = images.to(device)\n",
    "        labels = labels.to(device)\n",
    "\n",
    "        # Forward pass\n",
    "        outputs = model(images)\n",
    "        loss = criterion(outputs, labels)\n",
    "\n",
    "        # Backward and optimize\n",
    "        optimizer.zero_grad()\n",
    "        loss.backward()\n",
    "        optimizer.step()\n",
    "\n",
    "        if (i+1) % 2000 == 0:\n",
    "            print (f'Epoch [{epoch+1}/{num_epochs}], Step [{i+1}/{n_total_steps}], Loss: {loss.item():.4f}')"
   ]
  },
  {
   "cell_type": "code",
   "execution_count": null,
   "id": "b87de378-a3d3-4fe2-a3ed-0243e5a74715",
   "metadata": {},
   "outputs": [],
   "source": [
    "print('Finished Training')\n",
    "PATH = './cnn.pth'\n",
    "torch.save(model.state_dict(), PATH)"
   ]
  },
  {
   "cell_type": "code",
   "execution_count": null,
   "id": "2a900a04-6b0c-41d8-bdc0-26b09929bb13",
   "metadata": {},
   "outputs": [],
   "source": [
    "with torch.no_grad():\n",
    "    n_correct = 0\n",
    "    n_samples = 0\n",
    "    n_class_correct = [0 for i in range(10)]\n",
    "    n_class_samples = [0 for i in range(10)]\n",
    "    for images, labels in test_loader:\n",
    "        images = images.to(device)\n",
    "        labels = labels.to(device)\n",
    "        outputs = model(images)\n",
    "        # max returns (value ,index)\n",
    "        _, predicted = torch.max(outputs, 1)\n",
    "        n_samples += labels.size(0)\n",
    "        n_correct += (predicted == labels).sum().item()\n",
    "        \n",
    "        for i in range(batch_size):\n",
    "            label = labels[i]\n",
    "            pred = predicted[i]\n",
    "            if (label == pred):\n",
    "                n_class_correct[label] += 1\n",
    "            n_class_samples[label] += 1\n",
    "\n",
    "    acc = 100.0 * n_correct / n_samples\n",
    "    print(f'Accuracy of the network: {acc} %')\n",
    "\n",
    "    for i in range(10):\n",
    "        acc = 100.0 * n_class_correct[i] / n_class_samples[i]\n",
    "        print(f'Accuracy of {classes[i]}: {acc} %')\n"
   ]
  },
  {
   "cell_type": "code",
   "execution_count": null,
   "id": "915360e4-c2a3-48d7-b241-7f2a6da7ee66",
   "metadata": {},
   "outputs": [],
   "source": []
  }
 ],
 "metadata": {
  "kernelspec": {
   "display_name": "Python 3 (ipykernel)",
   "language": "python",
   "name": "python3"
  },
  "language_info": {
   "codemirror_mode": {
    "name": "ipython",
    "version": 3
   },
   "file_extension": ".py",
   "mimetype": "text/x-python",
   "name": "python",
   "nbconvert_exporter": "python",
   "pygments_lexer": "ipython3",
   "version": "3.12.2"
  }
 },
 "nbformat": 4,
 "nbformat_minor": 5
}
