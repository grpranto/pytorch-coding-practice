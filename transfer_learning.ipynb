{
 "cells": [
  {
   "cell_type": "code",
   "execution_count": 56,
   "id": "e3a677ed-71f9-4c9c-990b-d6da163b9b2d",
   "metadata": {},
   "outputs": [],
   "source": [
    "#imports\n",
    "import torch\n",
    "import torch.nn as nn\n",
    "import torch.nn.functional as F\n",
    "import torchvision\n",
    "from torchvision import models\n",
    "import torchvision.transforms as transforms\n",
    "import matplotlib.pyplot as plt\n",
    "import numpy as np"
   ]
  },
  {
   "cell_type": "code",
   "execution_count": 57,
   "id": "eb070f24-12f3-44a2-93a7-373f56e4e2e3",
   "metadata": {},
   "outputs": [],
   "source": [
    "# Device configuration\n",
    "device = torch.device('cuda' if torch.cuda.is_available() else 'cpu')"
   ]
  },
  {
   "cell_type": "code",
   "execution_count": 58,
   "id": "d4fe2225-523d-4a6a-a4ab-67b7e5403580",
   "metadata": {},
   "outputs": [],
   "source": [
    "# Hyper-parameters \n",
    "num_epochs = 5\n",
    "batch_size = 4\n",
    "learning_rate = 0.001"
   ]
  },
  {
   "cell_type": "markdown",
   "id": "603aee8d-a4cb-4d66-82c1-c9a30fbd5835",
   "metadata": {},
   "source": [
    "The given code snippet performs transformations on images to prepare them for use in a PyTorch deep learning model. Let's break it down step by step:\n",
    "\n",
    "### Original Image Characteristics\n",
    "PILImage: The images are in the PIL (Python Imaging Library) format.\n",
    "Range [0, 1]: The pixel values of the images are normalized to the range [0, 1].\n",
    "\n",
    "### Transformations\n",
    "The transform pipeline defines a sequence of operations to apply to each image before it's used in a model.\n",
    "\n",
    "1. transforms.ToTensor()\n",
    "This transformation:\n",
    "\n",
    "- Converts the PILImage to a PyTorch tensor.\n",
    "- Converts the image from [0, 1] range and shape (H, W, C) (Height, Width, Channels) to PyTorch's standard format (C, H, W).\n",
    "- The pixel values remain in the range [0, 1].\n",
    "\n",
    "2. transforms.Normalize((0.5, 0.5, 0.5), (0.5, 0.5, 0.5))\n",
    "This transformation normalizes the image tensor. Normalization adjusts the pixel values to a new range for better training performance and convergence.\n",
    "The new range of pixel values becomes [-1, 1].\n",
    "\n",
    "### Final Pipeline\n",
    "When an image passes through this transformation:\n",
    "\n",
    "- It is converted to a tensor.\n",
    "- The pixel values are normalized from [0, 1] to [-1, 1].\n"
   ]
  },
  {
   "cell_type": "code",
   "execution_count": 59,
   "id": "76b150ed-f0a2-4aee-985b-027b04fa591b",
   "metadata": {},
   "outputs": [],
   "source": [
    "# dataset has PILImage images of range [0, 1]. \n",
    "# We transform them to Tensors of normalized range [-1, 1]\n",
    "transform = transforms.Compose(\n",
    "    [transforms.ToTensor(),\n",
    "     transforms.Normalize((0.5, 0.5, 0.5), (0.5, 0.5, 0.5))])"
   ]
  },
  {
   "cell_type": "code",
   "execution_count": 60,
   "id": "12dc5295-65a2-40c7-bb72-d6ce1360d37d",
   "metadata": {},
   "outputs": [
    {
     "name": "stdout",
     "output_type": "stream",
     "text": [
      "Files already downloaded and verified\n",
      "Files already downloaded and verified\n"
     ]
    }
   ],
   "source": [
    "# CIFAR10: 60000 32x32 color images in 10 classes, with 6000 images per class\n",
    "train_dataset = torchvision.datasets.CIFAR10(root='./data', train=True,\n",
    "                                        download=True, transform=transform)\n",
    "\n",
    "test_dataset = torchvision.datasets.CIFAR10(root='./data', train=False,\n",
    "                                       download=True, transform=transform)"
   ]
  },
  {
   "cell_type": "code",
   "execution_count": 61,
   "id": "789cfabe-d445-418e-bfe6-9195c4b4b124",
   "metadata": {},
   "outputs": [],
   "source": [
    "train_loader = torch.utils.data.DataLoader(train_dataset, batch_size=batch_size,\n",
    "                                          shuffle=True)\n",
    "\n",
    "test_loader = torch.utils.data.DataLoader(test_dataset, batch_size=batch_size,\n",
    "                                         shuffle=False)"
   ]
  },
  {
   "cell_type": "code",
   "execution_count": 62,
   "id": "aaf70a11-e231-48fe-8b6e-75ed6fd2909a",
   "metadata": {},
   "outputs": [],
   "source": [
    "classes = ('plane', 'car', 'bird', 'cat',\n",
    "           'deer', 'dog', 'frog', 'horse', 'ship', 'truck')"
   ]
  },
  {
   "cell_type": "code",
   "execution_count": 63,
   "id": "30061e0e-c9fc-401b-ac46-eedcb9113f89",
   "metadata": {},
   "outputs": [],
   "source": [
    "def imshow(img):\n",
    "    # unnormalize\n",
    "    img = img / 2 + 0.5  \n",
    "    # converts tensor into numpy array\n",
    "    npimg = img.numpy()\n",
    "    # rearranges the dimensions of the image from (C, H, W) to (H, W, C)\n",
    "    plt.imshow(np.transpose(npimg, (1, 2, 0))) \n",
    "    plt.show()"
   ]
  },
  {
   "cell_type": "code",
   "execution_count": 64,
   "id": "5014132b-3547-40f8-bf11-edf00c558e42",
   "metadata": {},
   "outputs": [],
   "source": [
    "# get some random training images\n",
    "dataiter = iter(train_loader)\n",
    "images, labels = next(dataiter)"
   ]
  },
  {
   "cell_type": "code",
   "execution_count": 65,
   "id": "c012f3e6-86a0-4cf3-858b-b0699ecaaaeb",
   "metadata": {},
   "outputs": [
    {
     "data": {
      "image/png": "[encoded data removed]",
      "text/plain": [
       "<Figure size 640x480 with 1 Axes>"
      ]
     },
     "metadata": {},
     "output_type": "display_data"
    }
   ],
   "source": [
    "# show images\n",
    "# getting 4 images as our batch size is 4\n",
    "imshow(torchvision.utils.make_grid(images))"
   ]
  },
  {
   "cell_type": "code",
   "execution_count": 66,
   "id": "26ef1f03-865f-4c8d-9ecf-25659319b4da",
   "metadata": {},
   "outputs": [],
   "source": [
    "#### Finetuning the convnet ####\n",
    "# Load a pretrained model and reset final fully connected layer\n",
    "\n",
    "model = models.resnet18(pretrained = True)\n",
    "num_ftrs = model.fc.in_features\n",
    "model.fc = nn.Linear(num_ftrs, 10)"
   ]
  },
  {
   "cell_type": "code",
   "execution_count": 67,
   "id": "233c4ffb-aaf4-4115-b8d2-37514fdf072a",
   "metadata": {},
   "outputs": [],
   "source": [
    "model = model.to(device)"
   ]
  },
  {
   "cell_type": "code",
   "execution_count": 68,
   "id": "aaa0f8ad-b0cd-4c42-a858-884445b4d34e",
   "metadata": {},
   "outputs": [],
   "source": [
    "criterion = nn.CrossEntropyLoss()"
   ]
  },
  {
   "cell_type": "code",
   "execution_count": 69,
   "id": "826d737e-84c9-41db-aab6-a21e9ee91b7e",
   "metadata": {},
   "outputs": [],
   "source": [
    "optimizer = torch.optim.SGD(model.parameters(), lr=learning_rate)"
   ]
  },
  {
   "cell_type": "code",
   "execution_count": null,
   "id": "2ba4e1b7-4115-4b5e-bf64-e4156a7bac4c",
   "metadata": {},
   "outputs": [
    {
     "name": "stdout",
     "output_type": "stream",
     "text": [
      "Epoch [1/5], Step [2000/12500], Loss: 3.1303\n",
      "Epoch [1/5], Step [4000/12500], Loss: 2.0435\n",
      "Epoch [1/5], Step [6000/12500], Loss: 1.2453\n",
      "Epoch [1/5], Step [8000/12500], Loss: 0.8574\n",
      "Epoch [1/5], Step [10000/12500], Loss: 0.8416\n",
      "Epoch [1/5], Step [12000/12500], Loss: 1.1198\n",
      "Epoch [2/5], Step [2000/12500], Loss: 1.8774\n",
      "Epoch [2/5], Step [4000/12500], Loss: 0.4842\n",
      "Epoch [2/5], Step [6000/12500], Loss: 1.3314\n",
      "Epoch [2/5], Step [8000/12500], Loss: 1.9056\n",
      "Epoch [2/5], Step [10000/12500], Loss: 1.1930\n",
      "Epoch [2/5], Step [12000/12500], Loss: 1.5601\n",
      "Epoch [3/5], Step [2000/12500], Loss: 1.5385\n",
      "Epoch [3/5], Step [4000/12500], Loss: 0.2733\n",
      "Epoch [3/5], Step [6000/12500], Loss: 0.8164\n",
      "Epoch [3/5], Step [8000/12500], Loss: 1.1095\n",
      "Epoch [3/5], Step [10000/12500], Loss: 0.3496\n",
      "Epoch [3/5], Step [12000/12500], Loss: 0.5136\n",
      "Epoch [4/5], Step [2000/12500], Loss: 1.2197\n",
      "Epoch [4/5], Step [4000/12500], Loss: 1.2154\n",
      "Epoch [4/5], Step [6000/12500], Loss: 0.6665\n",
      "Epoch [4/5], Step [8000/12500], Loss: 0.7960\n",
      "Epoch [4/5], Step [10000/12500], Loss: 0.9275\n",
      "Epoch [4/5], Step [12000/12500], Loss: 0.7908\n",
      "Epoch [5/5], Step [2000/12500], Loss: 1.2158\n",
      "Epoch [5/5], Step [4000/12500], Loss: 0.3087\n"
     ]
    }
   ],
   "source": [
    "n_total_steps = len(train_loader)\n",
    "for epoch in range(num_epochs):\n",
    "    for i, (images, labels) in enumerate(train_loader):\n",
    "        images = images.to(device)\n",
    "        labels = labels.to(device)\n",
    "\n",
    "        # Forward pass\n",
    "        outputs = model(images)\n",
    "        loss = criterion(outputs, labels)\n",
    "\n",
    "        # Backward and optimize\n",
    "        optimizer.zero_grad()\n",
    "        loss.backward()\n",
    "        optimizer.step()\n",
    "\n",
    "        if (i+1) % 2000 == 0:\n",
    "            print (f'Epoch [{epoch+1}/{num_epochs}], Step [{i+1}/{n_total_steps}], Loss: {loss.item():.4f}')"
   ]
  },
  {
   "cell_type": "code",
   "execution_count": null,
   "id": "b87de378-a3d3-4fe2-a3ed-0243e5a74715",
   "metadata": {},
   "outputs": [],
   "source": [
    "print('Finished Training')\n",
    "PATH = './transfer_learning.pth'\n",
    "torch.save(model.state_dict(), PATH)"
   ]
  },
  {
   "cell_type": "code",
   "execution_count": null,
   "id": "2a900a04-6b0c-41d8-bdc0-26b09929bb13",
   "metadata": {},
   "outputs": [],
   "source": [
    "with torch.no_grad():\n",
    "    n_correct = 0\n",
    "    n_samples = 0\n",
    "    n_class_correct = [0 for i in range(10)]\n",
    "    n_class_samples = [0 for i in range(10)]\n",
    "    for images, labels in test_loader:\n",
    "        images = images.to(device)\n",
    "        labels = labels.to(device)\n",
    "        outputs = model(images)\n",
    "        # max returns (value ,index)\n",
    "        _, predicted = torch.max(outputs, 1)\n",
    "        n_samples += labels.size(0)\n",
    "        n_correct += (predicted == labels).sum().item()\n",
    "        \n",
    "        for i in range(batch_size):\n",
    "            label = labels[i]\n",
    "            pred = predicted[i]\n",
    "            if (label == pred):\n",
    "                n_class_correct[label] += 1\n",
    "            n_class_samples[label] += 1\n",
    "\n",
    "    acc = 100.0 * n_correct / n_samples\n",
    "    print(f'Accuracy of the network: {acc} %')\n",
    "\n",
    "    for i in range(10):\n",
    "        acc = 100.0 * n_class_correct[i] / n_class_samples[i]\n",
    "        print(f'Accuracy of {classes[i]}: {acc} %')\n"
   ]
  },
  {
   "cell_type": "code",
   "execution_count": null,
   "id": "915360e4-c2a3-48d7-b241-7f2a6da7ee66",
   "metadata": {},
   "outputs": [],
   "source": []
  }
 ],
 "metadata": {
  "kernelspec": {
   "display_name": "Python 3 (ipykernel)",
   "language": "python",
   "name": "python3"
  },
  "language_info": {
   "codemirror_mode": {
    "name": "ipython",
    "version": 3
   },
   "file_extension": ".py",
   "mimetype": "text/x-python",
   "name": "python",
   "nbconvert_exporter": "python",
   "pygments_lexer": "ipython3",
   "version": "3.12.2"
  }
 },
 "nbformat": 4,
 "nbformat_minor": 5
}
